{
  "nbformat": 4,
  "nbformat_minor": 0,
  "metadata": {
    "colab": {
      "provenance": []
    },
    "kernelspec": {
      "name": "python3",
      "display_name": "Python 3"
    },
    "accelerator": "GPU"
  },
  "cells": [
    {
      "cell_type": "code",
      "metadata": {
        "id": "auciUwoEng0n"
      },
      "source": [
        "from torch.nn.utils import clip_grad_norm_\n",
        "import torch\n",
        "import torch.nn as nn\n",
        "import numpy as np\n",
        "import io\n",
        "import math\n",
        "from torchtext.data import Field\n",
        "from torchtext.datasets import LanguageModelingDataset\n",
        "from torchtext.data import BPTTIterator\n",
        "from google.colab import files\n",
        "from collections import Counter"
      ],
      "execution_count": null,
      "outputs": []
    },
    {
      "cell_type": "code",
      "metadata": {
        "id": "PwCndh7EHKDa"
      },
      "source": [
        "# uploaded = files.upload()\n",
        "\n",
        "with open('49010-0.txt', 'r') as f:\n",
        "    text=f.read()\n",
        "\n",
        "\n",
        "device = torch.device('cuda' if torch.cuda.is_available() else 'cpu')\n",
        "\n",
        "# Hyper-parameters\n",
        "embed_size = 128\n",
        "hidden_size = 1024\n",
        "num_layers = 1\n",
        "num_epochs = 60\n",
        "num_samples = 1000\n",
        "seq_length = 30\n",
        "learning_rate = 0.002\n",
        "step = 0\n",
        "initial_words = ['The Project']\n",
        "batch_size = 32\n",
        "bptt_len = 256"
      ],
      "execution_count": null,
      "outputs": []
    },
    {
      "cell_type": "code",
      "metadata": {
        "id": "68UdfRGI0ymu"
      },
      "source": [
        "#character vocabulary size, number of characters, number of sentences,\n",
        "#usage of capitalized letters, contractions, paragraphs, line lengths\n",
        "\n",
        "print(\"# vocab : {}\".format(len(list(set(text)))))\n",
        "print(\"# chars : {}\".format(len(text)))\n",
        "print(\"# sentences : {}\".format(len(text.split('.'))))\n",
        "print(\"# upcases : {}\".format(np.sum([char.isupper() for char in list(text)])))\n",
        "print(\"# lowcases : {}\".format(np.sum([char.islower() for char in list(text)])))\n",
        "print(\"# paragraphs : {}\".format(len(text.split('\\n'*5))))"
      ],
      "execution_count": null,
      "outputs": []
    },
    {
      "cell_type": "code",
      "metadata": {
        "id": "y-yuKJE5AlqR"
      },
      "source": [
        "split_chars = lambda x: list(x) # keeps whitespaces\n",
        "\n",
        "train_field = Field(tokenize=split_chars, init_token='<sos>', eos_token='<eos>')\n",
        "\n",
        "train_dataset = LanguageModelingDataset(path='49010-0.txt', text_field=train_field, newline_eos=True)\n",
        "\n",
        "# build vocab, which constructs train_field.vocab\n",
        "train_field.build_vocab(train_dataset)\n",
        "\n",
        "train_iter = BPTTIterator(dataset=train_dataset, batch_size=batch_size, bptt_len=bptt_len, sort_key=lambda x: len(x.comment_text) ,device=device, repeat=False)\n",
        "\n",
        "vocab_size = len(train_field.vocab)\n"
      ],
      "execution_count": null,
      "outputs": []
    },
    {
      "cell_type": "code",
      "metadata": {
        "id": "3-qgtV1z01uB"
      },
      "source": [
        "class RNN(nn.Module):\n",
        "    def __init__(self, vocab_size, embed_size, hidden_size, num_layers):\n",
        "        super(RNN, self).__init__()\n",
        "\n",
        "        self.lstm = nn.LSTM(embed_size, hidden_size, num_layers, batch_first=False)\n",
        "\n",
        "        self.linear = nn.Linear(hidden_size, vocab_size)\n",
        "\n",
        "        self.embed = nn.Embedding(vocab_size, embed_size)\n",
        "\n",
        "\n",
        "    def forward(self, x_t, prev_h):\n",
        "\n",
        "        x_t = self.embed(x_t)\n",
        "\n",
        "        y, (h_state, c_state) = self.lstm(x_t, prev_h) #input size, hidden size\n",
        "\n",
        "        y = y.reshape(y.size(0) * y.size(1), y.size(2))\n",
        "\n",
        "        y = self.linear(y)\n",
        "\n",
        "        return y, (h_state, c_state)\n",
        "\n",
        "\n",
        "\n",
        "model = RNN(vocab_size, embed_size, hidden_size, num_layers).to(device)\n",
        "criterion = nn.CrossEntropyLoss()\n",
        "optimizer = torch.optim.Adam(model.parameters(), lr=learning_rate)\n",
        "\n",
        "\n",
        "char_counts = Counter(text)\n",
        "\n",
        "sorted_vocab = sorted(char_counts, key=char_counts.get, reverse=True)\n",
        "int_to_vocab = {k: w for k, w in enumerate(sorted_vocab)}\n",
        "vocab_to_int = {w: k for k, w in int_to_vocab.items()}\n",
        "\n",
        "\n",
        "def detach(states):\n",
        "    return [state.detach() for state in states]"
      ],
      "execution_count": null,
      "outputs": []
    },
    {
      "cell_type": "code",
      "metadata": {
        "id": "-8p9ANO31KeO"
      },
      "source": [
        "def greedy(initial_words, iter, device=device):\n",
        "\n",
        "    model.eval()\n",
        "    chars = []\n",
        "    words = initial_words\n",
        "\n",
        "    with torch.no_grad():\n",
        "\n",
        "        init_state = (torch.zeros(num_layers, 1, hidden_size).to(device),\n",
        "                    torch.zeros(num_layers, 1, hidden_size).to(device))\n",
        "\n",
        "        iter_field = iter.dataset.fields['text']\n",
        "        str_val = iter_field.tokenize(initial_words)\n",
        "        int_val = torch.Tensor([iter_field.vocab.stoi[s] for s in str_val]).long()\n",
        "        int_val = int_val.view(1, -1).to(device)\n",
        "\n",
        "        output, hidden = model(int_val, init_state)\n",
        "        c_next = torch.argmax(output, dim = 1)\n",
        "        c_next = c_next.to(device)\n",
        "        chars.append(c_next)\n",
        "\n",
        "        for i in range(100):\n",
        "            output, hidden = model(c_next.view(1, -1), hidden)\n",
        "            c_next = torch.argmax(output, dim =1)\n",
        "            chars.append(c_next)\n",
        "\n",
        "        words = ''.join([iter_field.vocab.itos[char] for char in chars])\n",
        "        return words"
      ],
      "execution_count": null,
      "outputs": []
    },
    {
      "cell_type": "code",
      "metadata": {
        "id": "n-F_je3P2KzG"
      },
      "source": [
        "def sampling(initial_words):\n",
        "\n",
        "  model.eval()\n",
        "  words = []\n",
        "\n",
        "  with torch.no_grad():\n",
        "\n",
        "      state = (torch.zeros(num_layers, 1, hidden_size).to(device),\n",
        "              torch.zeros(num_layers, 1, hidden_size).to(device))\n",
        "\n",
        "\n",
        "      prob = torch.ones(vocab_size)\n",
        "      input = torch.multinomial(prob, num_samples=1).unsqueeze(1).to(device)\n",
        "\n",
        "      for i in range(num_samples):\n",
        "\n",
        "          output, state = model(input, state)\n",
        "\n",
        "\n",
        "          prob = output.exp()\n",
        "          word_id = torch.multinomial(prob, num_samples=1).item()\n",
        "\n",
        "\n",
        "          input.fill_(word_id)\n",
        "\n",
        "\n",
        "          word = train_field.vocab.itos[word_id]\n",
        "          word = '\\n' if word == '<eos>' else word + ''\n",
        "\n",
        "          words.append(word)\n",
        "\n",
        "          if (i+1) % 1000 == 0:\n",
        "              print(\"Sampling:\")\n",
        "              print(*words, sep = \" \")\n",
        "              words = []\n",
        "\n",
        ""
      ],
      "execution_count": null,
      "outputs": []
    },
    {
      "cell_type": "code",
      "metadata": {
        "id": "sbG2Yq-g0mk_"
      },
      "source": [
        "for epoch in range(num_epochs):\n",
        "\n",
        "    states = (torch.zeros(num_layers, batch_size, hidden_size).to(device), torch.zeros(num_layers, batch_size, hidden_size).to(device))\n",
        "\n",
        "    for i, data in enumerate(train_iter):\n",
        "        # print(i, data.text, data.target)\n",
        "\n",
        "        inputs = data.text.to(device)\n",
        "        targets = data.target.to(device)\n",
        "        states = detach(states)\n",
        "        outputs, states = model(inputs, states)\n",
        "        loss = criterion(outputs, targets.reshape(-1))\n",
        "        optimizer.zero_grad()\n",
        "        loss.backward()\n",
        "        clip_grad_norm_(model.parameters(), 0.5)\n",
        "        optimizer.step()\n",
        "        perplexity = np.exp(loss.item())\n",
        "\n",
        "        step += 1\n",
        "        if step % 100 == 0:\n",
        "            print ('Epoch {}, Loss: {:.3f}, Perplexity: {:5.3f}'\n",
        "                   .format(epoch+1, loss.item(), perplexity))\n",
        "\n",
        "        if i%1000 == 0:\n",
        "          sample = sampling(initial_words)\n",
        "          greed = greedy(initial_words,train_iter,device)\n",
        "          print(f\"Greedy:\\n{greed} \")\n",
        "          model.train()\n",
        "\n"
      ],
      "execution_count": null,
      "outputs": []
    }
  ]
}